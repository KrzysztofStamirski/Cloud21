{
 "cells": [
  {
   "cell_type": "code",
   "execution_count": 11,
   "metadata": {},
   "outputs": [],
   "source": [
    "import pandas as pd\n",
    "import dask.dataframe as dd\n",
    "from dask.distributed import Client"
   ]
  },
  {
   "cell_type": "code",
   "execution_count": 12,
   "metadata": {},
   "outputs": [
    {
     "name": "stderr",
     "output_type": "stream",
     "text": [
      "C:\\Users\\Rapid\\AppData\\Local\\Programs\\Python\\Python37\\lib\\site-packages\\distributed\\node.py:161: UserWarning: Port 8787 is already in use.\n",
      "Perhaps you already have a cluster running?\n",
      "Hosting the HTTP server on port 61189 instead\n",
      "  f\"Port {expected} is already in use.\\n\"\n"
     ]
    }
   ],
   "source": [
    "client = Client()"
   ]
  },
  {
   "cell_type": "code",
   "execution_count": 13,
   "metadata": {},
   "outputs": [],
   "source": [
    "df = pd.read_csv('10.16_LeagueOfLegends_Games.csv', sep=';')\n",
    "# df = df.head(100)  # Dla testów na szybko\n",
    "df = dd.from_pandas(df, chunksize=1000)"
   ]
  },
  {
   "cell_type": "code",
   "execution_count": 14,
   "metadata": {},
   "outputs": [],
   "source": [
    "# Popraw gold graczy\n",
    "for team in [1, 2]:\n",
    "  for player in range(1, 6):\n",
    "    for minute in [10, 15]:\n",
    "      df[f't{team}p{player}_min{minute}_gold_fixed'] = df[f't{team}p{player}_min{minute}_gold'] * 10"
   ]
  },
  {
   "cell_type": "code",
   "execution_count": 15,
   "metadata": {},
   "outputs": [],
   "source": [
    "df['t1_min10_gold_advantage']= (df['t1p1_min10_gold_fixed']+df['t1p2_min10_gold_fixed']+df['t1p3_min10_gold_fixed']+df['t1p4_min10_gold_fixed']+df['t1p5_min10_gold_fixed'])-(df['t2p1_min10_gold_fixed']+df['t2p2_min10_gold_fixed']+df['t2p3_min10_gold_fixed']+df['t2p4_min10_gold_fixed']+df['t2p5_min10_gold_fixed'])\n",
    "\n",
    "df['t1_min15_gold_advantage']= (df['t1p1_min15_gold_fixed']+df['t1p2_min15_gold_fixed']+df['t1p3_min15_gold_fixed']+df['t1p4_min15_gold_fixed']+df['t1p5_min15_gold_fixed'])-(df['t2p1_min15_gold_fixed']+df['t2p2_min15_gold_fixed']+df['t2p3_min15_gold_fixed']+df['t2p4_min15_gold_fixed']+df['t2p5_min15_gold_fixed'])"
   ]
  },
  {
   "cell_type": "code",
   "execution_count": 16,
   "metadata": {},
   "outputs": [],
   "source": [
    "# df.describe().loc[:, ['t1p1_min10_gold_fixed', 't1p1_min15_gold_fixed', 't1_min15_gold_advantage']]\n",
    "# df.compute().describe()"
   ]
  },
  {
   "cell_type": "code",
   "execution_count": 17,
   "metadata": {},
   "outputs": [],
   "source": [
    "# corrs = df.corrwith(df['t1_win'])\n",
    "corrs = df.corr().compute()"
   ]
  },
  {
   "cell_type": "code",
   "execution_count": 18,
   "metadata": {},
   "outputs": [
    {
     "data": {
      "text/html": [
       "<div>\n",
       "<style scoped>\n",
       "    .dataframe tbody tr th:only-of-type {\n",
       "        vertical-align: middle;\n",
       "    }\n",
       "\n",
       "    .dataframe tbody tr th {\n",
       "        vertical-align: top;\n",
       "    }\n",
       "\n",
       "    .dataframe thead th {\n",
       "        text-align: right;\n",
       "    }\n",
       "</style>\n",
       "<table border=\"1\" class=\"dataframe\">\n",
       "  <thead>\n",
       "    <tr style=\"text-align: right;\">\n",
       "      <th></th>\n",
       "      <th>t1_win</th>\n",
       "    </tr>\n",
       "  </thead>\n",
       "  <tbody>\n",
       "    <tr>\n",
       "      <th>t1_min10_gold_advantage</th>\n",
       "      <td>0.525193</td>\n",
       "    </tr>\n",
       "    <tr>\n",
       "      <th>t1_min15_gold_advantage</th>\n",
       "      <td>0.662467</td>\n",
       "    </tr>\n",
       "  </tbody>\n",
       "</table>\n",
       "</div>"
      ],
      "text/plain": [
       "                           t1_win\n",
       "t1_min10_gold_advantage  0.525193\n",
       "t1_min15_gold_advantage  0.662467"
      ]
     },
     "execution_count": 18,
     "metadata": {},
     "output_type": "execute_result"
    }
   ],
   "source": [
    "# corrs.to_csv('t1_win_correlation.csv')\n",
    "# corrs.loc[['t1p1_min10_gold_fixed', 't1p1_min15_gold_fixed', 't1_min10_gold_advantage', 't1_min15_gold_advantage']]\n",
    "corrs['t1_win'].to_csv('t1_win_correlation.csv')\n",
    "corrs.loc[['t1_min10_gold_advantage', 't1_min15_gold_advantage'], ['t1_win']]"
   ]
  }
 ],
 "metadata": {
  "interpreter": {
   "hash": "44fbd7004c3016cd7534cf0f1edc719ec93b2873ebadbff0fa25fc2ae14dd33d"
  },
  "kernelspec": {
   "display_name": "Python 3.9.7 64-bit (system)",
   "language": "python",
   "name": "python3"
  },
  "language_info": {
   "codemirror_mode": {
    "name": "ipython",
    "version": 3
   },
   "file_extension": ".py",
   "mimetype": "text/x-python",
   "name": "python",
   "nbconvert_exporter": "python",
   "pygments_lexer": "ipython3",
   "version": "3.7.4"
  },
  "orig_nbformat": 4
 },
 "nbformat": 4,
 "nbformat_minor": 2
}
